{
 "cells": [
  {
   "cell_type": "code",
   "execution_count": 10,
   "metadata": {},
   "outputs": [
    {
     "name": "stdout",
     "output_type": "stream",
     "text": [
      "Olá, Gabriel  Moraes\n"
     ]
    }
   ],
   "source": [
    "#Questão 1#\n",
    "nome = input(\"Qual o seu nome?\")\n",
    "sobrenome = input(\"Qual o seu sobrenome?\")\n",
    "print(\"Olá, \" + nome + \" \" + sobrenome)"
   ]
  },
  {
   "cell_type": "code",
   "execution_count": 21,
   "metadata": {},
   "outputs": [
    {
     "name": "stdout",
     "output_type": "stream",
     "text": [
      "A soma é: 50\n"
     ]
    }
   ],
   "source": [
    "#Questão 2#\n",
    "\n",
    "soma = (13 + 15 + 16 + 6)\n",
    "print (\"A soma é:\",soma)"
   ]
  },
  {
   "cell_type": "code",
   "execution_count": null,
   "metadata": {},
   "outputs": [],
   "source": [
    "mensagem_secreta = #Mistério: @s4b@d0 3n0c0nd3 3st@ m3n$@g3m. P0d3r14$ d3c1fr@-l@?\n"
   ]
  },
  {
   "cell_type": "code",
   "execution_count": 3,
   "metadata": {},
   "outputs": [
    {
     "name": "stdout",
     "output_type": "stream",
     "text": [
      "       #\n",
      "      ##\n",
      "     ###\n",
      "    ####\n",
      "   #####\n",
      "  ######\n",
      " #######\n",
      "########\n"
     ]
    }
   ],
   "source": [
    "#desafio Mario\n",
    "tamanho = int(input (\"Qual o tamanho que quer a pirame?\"))\n",
    "for i in range (1, tamanho + 1):\n",
    "    tamanho -= 1\n",
    "    print (\" \" * tamanho, end=\"\")\n",
    "    print (\"#\" * i)"
   ]
  },
  {
   "cell_type": "code",
   "execution_count": 4,
   "metadata": {},
   "outputs": [
    {
     "name": "stdout",
     "output_type": "stream",
     "text": [
      "    #  #\n",
      "   ##  ##\n",
      "  ###  ###\n",
      " ####  ####\n",
      "#####  #####\n"
     ]
    }
   ],
   "source": [
    "#desafio Mario2\n",
    "tamanho = int(input(\"Qual o tamanho que quer a pirame?\"))\n",
    "for i in range (1, tamanho + 1):\n",
    "    tamanho -= 1\n",
    "    print (\" \" * tamanho, end=\"\")\n",
    "    print (\"#\" * i + \"  \" + \"#\" * i)"
   ]
  },
  {
   "cell_type": "code",
   "execution_count": 25,
   "metadata": {},
   "outputs": [
    {
     "name": "stdout",
     "output_type": "stream",
     "text": [
      "O -9 é negativo e impar\n"
     ]
    }
   ],
   "source": [
    "numero = int(input(\"Digite seu numero\"))\n",
    "if numero % 2 == 0: \n",
    "    print (f\"O {numero} é positivo e par\")\n",
    "else:\n",
    "    print (f\"O {numero} é negativo e impar\")"
   ]
  },
  {
   "cell_type": "code",
   "execution_count": 30,
   "metadata": {},
   "outputs": [
    {
     "name": "stdout",
     "output_type": "stream",
     "text": [
      "Bem-vindo, jogador experiente\n"
     ]
    }
   ],
   "source": [
    "numero = int(input(\"Por favor, digite seu numero\"))\n",
    "if numero >= 10:\n",
    "    print (\"Bem-vindo, jogador experiente\")\n",
    "else:\n",
    "    print (\"Bem-vindo, jogador iniciante\")\n",
    "\n"
   ]
  },
  {
   "cell_type": "code",
   "execution_count": 78,
   "metadata": {},
   "outputs": [
    {
     "name": "stdout",
     "output_type": "stream",
     "text": [
      "Direito a voto, mas não obrigatório\n"
     ]
    }
   ],
   "source": [
    "idade = int(input(\"Digite sua idade\"))\n",
    "\n",
    "if idade < 16:\n",
    "    print (\"Não pode votar\")\n",
    "elif idade <=17:\n",
    "    print (\"Direito a voto, mas não obrigatório\")\n",
    "elif idade <= 69:\n",
    "    print (\"Voto obrigatório\")\n",
    "else:\n",
    "    print (\"Direito a voto, mas não obrigatório\")"
   ]
  },
  {
   "cell_type": "code",
   "execution_count": 98,
   "metadata": {},
   "outputs": [
    {
     "ename": "NameError",
     "evalue": "name 'preco_sebo' is not defined",
     "output_type": "error",
     "traceback": [
      "\u001b[1;31m---------------------------------------------------------------------------\u001b[0m",
      "\u001b[1;31mNameError\u001b[0m                                 Traceback (most recent call last)",
      "\u001b[1;32mc:\\Users\\gabri\\OneDrive\\Documents\\Curso FEA Dev\\Questões.ipynb Célula 9\u001b[0m line \u001b[0;36m6\n\u001b[0;32m      <a href='vscode-notebook-cell:/c%3A/Users/gabri/OneDrive/Documents/Curso%20FEA%20Dev/Quest%C3%B5es.ipynb#X12sZmlsZQ%3D%3D?line=2'>3</a>\u001b[0m precos_internet \u001b[39m=\u001b[39m {\u001b[39m'\u001b[39m\u001b[39mOdisseia\u001b[39m\u001b[39m'\u001b[39m:\u001b[39m30\u001b[39m, \u001b[39m'\u001b[39m\u001b[39mJane Eyre\u001b[39m\u001b[39m'\u001b[39m:\u001b[39m32\u001b[39m, \u001b[39m'\u001b[39m\u001b[39mA Divina Comédia\u001b[39m\u001b[39m'\u001b[39m: \u001b[39m22\u001b[39m, \u001b[39m'\u001b[39m\u001b[39mHelena\u001b[39m\u001b[39m'\u001b[39m:\u001b[39m26\u001b[39m, \u001b[39m'\u001b[39m\u001b[39mMoby Dick\u001b[39m\u001b[39m'\u001b[39m:\u001b[39m145\u001b[39m, \u001b[39m'\u001b[39m\u001b[39mCrime e Castigo\u001b[39m\u001b[39m'\u001b[39m:\u001b[39m80\u001b[39m}\n\u001b[0;32m      <a href='vscode-notebook-cell:/c%3A/Users/gabri/OneDrive/Documents/Curso%20FEA%20Dev/Quest%C3%B5es.ipynb#X12sZmlsZQ%3D%3D?line=4'>5</a>\u001b[0m \u001b[39mif\u001b[39;00m \u001b[39m\"\u001b[39m\u001b[39mMoby Dick\u001b[39m\u001b[39m\"\u001b[39m \u001b[39min\u001b[39;00m wishlist:\n\u001b[1;32m----> <a href='vscode-notebook-cell:/c%3A/Users/gabri/OneDrive/Documents/Curso%20FEA%20Dev/Quest%C3%B5es.ipynb#X12sZmlsZQ%3D%3D?line=5'>6</a>\u001b[0m     \u001b[39mif\u001b[39;00m preco_sebo[\u001b[39m4\u001b[39m][\u001b[39m4\u001b[39m] \u001b[39m<\u001b[39m preco_internet[\u001b[39m4\u001b[39m][\u001b[39m4\u001b[39m]:\n\u001b[0;32m      <a href='vscode-notebook-cell:/c%3A/Users/gabri/OneDrive/Documents/Curso%20FEA%20Dev/Quest%C3%B5es.ipynb#X12sZmlsZQ%3D%3D?line=6'>7</a>\u001b[0m         \u001b[39mprint\u001b[39m(\u001b[39m\"\u001b[39m\u001b[39mPode comprar\u001b[39m\u001b[39m\"\u001b[39m)\n",
      "\u001b[1;31mNameError\u001b[0m: name 'preco_sebo' is not defined"
     ]
    }
   ],
   "source": [
    "wishlist = ['Moby Dick', 'Helena', 'A Origem das Espécies', 'Grande Sertão: Veredas', 'Odisseia', 'Rápido e Devagar', 'Sidarta']\n",
    "precos_sebo = {'Odisseia':50, 'Jane Eyre':61, 'A Divina Comédia': 56, 'Helena':10, 'Moby Dick':55, 'Crime e Castigo':20}\n",
    "precos_internet = {'Odisseia':30, 'Jane Eyre':32, 'A Divina Comédia': 22, 'Helena':26, 'Moby Dick':145, 'Crime e Castigo':80}\n",
    "\n",
    "if \"Moby Dick\" in wishlist:\n",
    "    if preco_sebo[4][4] < preco_internet[4][4]:\n",
    "        print(\"Pode comprar\")"
   ]
  }
 ],
 "metadata": {
  "kernelspec": {
   "display_name": "Python 3",
   "language": "python",
   "name": "python3"
  },
  "language_info": {
   "codemirror_mode": {
    "name": "ipython",
    "version": 3
   },
   "file_extension": ".py",
   "mimetype": "text/x-python",
   "name": "python",
   "nbconvert_exporter": "python",
   "pygments_lexer": "ipython3",
   "version": "3.12.0"
  }
 },
 "nbformat": 4,
 "nbformat_minor": 2
}
